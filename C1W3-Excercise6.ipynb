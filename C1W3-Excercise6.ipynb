{
    "cells": [
        {
            "metadata": {},
            "cell_type": "code",
            "source": "# !pip install pyspark==2.4.5\n#import math\n   ",
            "execution_count": null,
            "outputs": []
        },
        {
            "metadata": {},
            "cell_type": "code",
            "source": "# Situation1:\nimport random\nfrom pyspark.mllib.stat import Statistics\ncolumn1 = sc.parallelize(range(100))\ncolumn2 = sc.parallelize(range(100, 200))\ncolumn3 = sc.parallelize(list(reversed(range(100))))\ncolumn4 = sc.parallelize(random.sample(range(100),100))\ndata = column1.zip(column2).zip(column3).zip(column4).map(lambda (((a,b),c),d) : (a,b,c,d)).map(lambda (a,b,c,d) : [a,b,c,d])\ndata.take(10)\nStatistics.corr(data)",
            "execution_count": null,
            "outputs": []
        },
        {
            "metadata": {},
            "cell_type": "code",
            "source": "",
            "execution_count": null,
            "outputs": []
        }
    ],
    "metadata": {
        "kernelspec": {
            "name": "python36",
            "display_name": "Python 3.6 with Spark",
            "language": "python3"
        },
        "language_info": {
            "mimetype": "text/x-python",
            "nbconvert_exporter": "python",
            "name": "python",
            "pygments_lexer": "ipython3",
            "version": "3.6.8",
            "file_extension": ".py",
            "codemirror_mode": {
                "version": 3,
                "name": "ipython"
            }
        }
    },
    "nbformat": 4,
    "nbformat_minor": 1
}
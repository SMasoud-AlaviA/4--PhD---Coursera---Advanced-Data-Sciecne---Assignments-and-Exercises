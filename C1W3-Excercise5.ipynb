{
    "cells": [
        {
            "metadata": {},
            "cell_type": "code",
            "source": "# !pip install pyspark==2.4.5\n#import math",
            "execution_count": null,
            "outputs": []
        },
        {
            "metadata": {},
            "cell_type": "code",
            "source": "# Situation1:\n#rddX = sc.parallelize(range(100))\n#rddY = sc.parallelize(range(100))\n\n# Situation2: take two random lists of items between 0 to 99 the second list is the reverse one\n#rddX = sc.parallelize(range(100))\n#rddY = sc.parallelize(reversed(range(100)))\n\n# Situation3: take two realy random lists of items between 0 to 99 (the lists' Items selected after 99 times itterations)\nimport random\n#rddX = sc.parallelize(random.sample(range(100),99))1,2,3,4,5,6,7,8,9,10\n#rddY = sc.parallelize(random.sample(range(100),99))7,6,5,4,5,6,7,8,9,10\nrddX = sc.parallelize([1,2,3,4,5,6,7,8,9,10])\nrddY = sc.parallelize([7,6,5,4,5,6,7,8,9,10])",
            "execution_count": 1,
            "outputs": [
                {
                    "output_type": "stream",
                    "text": "Waiting for a Spark session to start...\nSpark Initialization Done! ApplicationId = app-20200830193822-0006\nKERNEL_ID = 8d88e3c0-68d4-49f4-8e89-671bb897210f\n",
                    "name": "stdout"
                }
            ]
        },
        {
            "metadata": {},
            "cell_type": "code",
            "source": "meanX = rddX.sum() / float(rddX.count())\nmeanY = rddY.sum() / float(rddY.count())\nprint (meanX)\nprint (meanY)\n\n",
            "execution_count": 2,
            "outputs": [
                {
                    "output_type": "stream",
                    "text": "5.5\n6.7\n",
                    "name": "stdout"
                }
            ]
        },
        {
            "metadata": {},
            "cell_type": "code",
            "source": "rddXY = rddX.zip(rddY)\nprint (rddXY.take(10))\n",
            "execution_count": 3,
            "outputs": [
                {
                    "output_type": "stream",
                    "text": "[(1, 7), (2, 6), (3, 5), (4, 4), (5, 5), (6, 6), (7, 7), (8, 8), (9, 9), (10, 10)]\n",
                    "name": "stdout"
                }
            ]
        },
        {
            "metadata": {},
            "cell_type": "code",
            "source": "n = rddXY.count()\nprint(n)\n\n#covXY = rddXY.map(lambda (x,y) : (x - meanX) * (y - meanY)).sum() / n\ncovXY = rddXY.map(lambda x_y : (x_y[0]-meanX)*(x_y[1]-meanY)).sum()/rddXY.count()\n\ncovXY",
            "execution_count": 4,
            "outputs": [
                {
                    "output_type": "stream",
                    "text": "10\n",
                    "name": "stdout"
                },
                {
                    "output_type": "execute_result",
                    "execution_count": 4,
                    "data": {
                        "text/plain": "3.65"
                    },
                    "metadata": {}
                }
            ]
        },
        {
            "metadata": {},
            "cell_type": "code",
            "source": "# first we should define a function for doing the Standard deviation calculations for each entry of a list\nfrom math import sqrt\nn = rddXY.count()\n\n#then define and implement the standard deviation formula in the function\n#sdX = sqrt (rddX.map(lambda x : pow(x - meanX , 2)).sum() / rddX.count())\n#sdY = sqrt (rddY.map(lambda y : pow(y - meanY , 2)).sum() / rddY.count())\nsdX = sqrt(rddX.map(lambda x : pow(x-meanX,2)).sum()/n)\nsdY = sqrt(rddY.map(lambda x : pow(x-meanY,2)).sum()/n)\nprint(sdX)\nprint(sdY)",
            "execution_count": 5,
            "outputs": [
                {
                    "output_type": "stream",
                    "text": "2.8722813232690143\n1.7916472867168916\n",
                    "name": "stdout"
                }
            ]
        },
        {
            "metadata": {},
            "cell_type": "code",
            "source": "corrXY = covXY / (sdX * sdY)\nprint(corrXY)",
            "execution_count": 7,
            "outputs": [
                {
                    "output_type": "stream",
                    "text": "0.709272912083725\n",
                    "name": "stdout"
                }
            ]
        },
        {
            "metadata": {},
            "cell_type": "code",
            "source": "",
            "execution_count": null,
            "outputs": []
        }
    ],
    "metadata": {
        "kernelspec": {
            "name": "python36",
            "display_name": "Python 3.6 with Spark",
            "language": "python3"
        },
        "language_info": {
            "mimetype": "text/x-python",
            "nbconvert_exporter": "python",
            "name": "python",
            "pygments_lexer": "ipython3",
            "version": "3.6.8",
            "file_extension": ".py",
            "codemirror_mode": {
                "version": 3,
                "name": "ipython"
            }
        }
    },
    "nbformat": 4,
    "nbformat_minor": 1
}
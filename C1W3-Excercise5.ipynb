{
    "cells": [
        {
            "metadata": {},
            "cell_type": "code",
            "source": "# !pip install pyspark==2.4.5\n#import math",
            "execution_count": null,
            "outputs": []
        },
        {
            "metadata": {},
            "cell_type": "code",
            "source": "# Situation1:\n#rddX = sc.parallelize(range(100))\n#rddY = sc.parallelize(range(100))\n\n# Situation2: take two random lists of items between 0 to 99 the second list is the reverse one\n#rddX = sc.parallelize(range(100))\n#rddY = sc.parallelize(reversed(range(100)))\n\n# Situation3: take two realy random lists of items between 0 to 99 (the lists' Items selected after 99 times itterations)\nimport random\nrddX = sc.parallelize(random.sample(range(100),99))\nrddY = sc.parallelize(random.sample(range(100),99))",
            "execution_count": 2,
            "outputs": []
        },
        {
            "metadata": {},
            "cell_type": "code",
            "source": "meanX = rddX.sum() / float(rddX.count())\nmeanY = rddY.sum() / float(rddY.count())\nprint (meanX)\nprint (meanY)\n\n",
            "execution_count": null,
            "outputs": []
        },
        {
            "metadata": {},
            "cell_type": "code",
            "source": "rddXY = rddX.zip(rddY)\nprint (rddXY.take(10))\nn = rddXY.count()\nprint(n)\ncovXY = rddXY.map(lambda (x,y) : (x - meanX) * (y - meanY)).sum() / n",
            "execution_count": null,
            "outputs": []
        },
        {
            "metadata": {},
            "cell_type": "code",
            "source": "# first we should define a function for doing the Standard deviation calculations for each entry of a list\nfrom math import sqrt\n#then define and implement the standard deviation formula in the function\nsdX = sqrt (rddX.map(lambda x : pow(x - meanX , 2)).sum() / rddX.count())\nsdY = sqrt (rddY.map(lambda y : pow(y - meanY , 2)).sum() / rddY.count())\nprint(sdX)\nprint(sdY)\ncorrXY = covXY / (sdX * xdY)\nprint(corrXY)",
            "execution_count": null,
            "outputs": []
        },
        {
            "metadata": {},
            "cell_type": "code",
            "source": "",
            "execution_count": null,
            "outputs": []
        }
    ],
    "metadata": {
        "kernelspec": {
            "name": "python36",
            "display_name": "Python 3.6 with Spark",
            "language": "python3"
        },
        "language_info": {
            "mimetype": "text/x-python",
            "nbconvert_exporter": "python",
            "name": "python",
            "pygments_lexer": "ipython3",
            "version": "3.6.8",
            "file_extension": ".py",
            "codemirror_mode": {
                "version": 3,
                "name": "ipython"
            }
        }
    },
    "nbformat": 4,
    "nbformat_minor": 1
}
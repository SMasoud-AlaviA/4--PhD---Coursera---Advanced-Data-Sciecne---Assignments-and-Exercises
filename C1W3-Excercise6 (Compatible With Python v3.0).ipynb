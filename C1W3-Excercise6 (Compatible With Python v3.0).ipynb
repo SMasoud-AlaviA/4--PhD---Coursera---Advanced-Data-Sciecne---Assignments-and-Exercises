{
    "cells": [
        {
            "metadata": {},
            "cell_type": "markdown",
            "source": "This notebook is designed to run in a IBM Watson Studio default runtime (NOT the Watson Studio Apache Spark Runtime as the default runtime with 1 vCPU is free of charge). Therefore, we install Apache Spark in local mode for test purposes only. Please don't use it in production.\n\nIn case you are facing issues, please read the following two documents first:\n\nhttps://github.com/IBM/skillsnetwork/wiki/Environment-Setup\n\nhttps://github.com/IBM/skillsnetwork/wiki/FAQ\n\nThen, please feel free to ask:\n\nhttps://coursera.org/learn/machine-learning-big-data-apache-spark/discussions/all\n\nPlease make sure to follow the guidelines before asking a question:\n\nhttps://github.com/IBM/skillsnetwork/wiki/FAQ#im-feeling-lost-and-confused-please-help-me\n\n\nIf running outside Watson Studio, this should work as well. In case you are running in an Apache Spark context outside Watson Studio, please remove the Apache Spark setup in the first notebook cells."
        },
        {
            "metadata": {},
            "cell_type": "code",
            "source": "from IPython.display import Markdown, display\ndef printmd(string):\n    display(Markdown('# <span style=\"color:red\">'+string+'</span>'))\n\n\nif ('sc' in locals() or 'sc' in globals()):\n    printmd('<<<<<!!!!! It seems that you are running in a IBM Watson Studio Apache Spark Notebook. Please run it in an IBM Watson Studio Default Runtime (without Apache Spark) !!!!!>>>>>')\n",
            "execution_count": null,
            "outputs": []
        },
        {
            "metadata": {},
            "cell_type": "code",
            "source": "!pip install pyspark==2.4.5",
            "execution_count": null,
            "outputs": []
        },
        {
            "metadata": {},
            "cell_type": "code",
            "source": "try:\n    from pyspark import SparkContext, SparkConf\n    from pyspark.sql import SparkSession\nexcept ImportError as e:\n    printmd('<<<<<!!!!! Please restart your kernel after installing Apache Spark !!!!!>>>>>')",
            "execution_count": 2,
            "outputs": []
        },
        {
            "metadata": {},
            "cell_type": "code",
            "source": "sc = SparkContext.getOrCreate(SparkConf().setMaster(\"local[*]\"))\n\nspark = SparkSession \\\n    .builder \\\n    .getOrCreate()",
            "execution_count": 3,
            "outputs": []
        },
        {
            "metadata": {},
            "cell_type": "markdown",
            "source": "# Exercise 2\n## Part 1\nNow let's calculate covariance and correlation by ourselves using ApacheSpark\n\n1st we crate two random RDD\u2019s, which shouldn't correlate at all.\n"
        },
        {
            "metadata": {},
            "cell_type": "code",
            "source": "import random\nrddX = sc.parallelize(random.sample(list(range(100)),100))\nrddY = sc.parallelize(random.sample(list(range(100)),100))",
            "execution_count": 4,
            "outputs": []
        },
        {
            "metadata": {},
            "cell_type": "markdown",
            "source": "Now we calculate the mean, note that we explicitly cast the denominator to float in order to obtain a float instead of int"
        },
        {
            "metadata": {},
            "cell_type": "code",
            "source": "meanX = rddX.sum()/float(rddX.count())\nmeanY = rddY.sum()/float(rddY.count())\n#meanX = rddX.sum()/rddX.count()\n#meanY = rddY.sum()/rddY.count()\nprint (meanX)\nprint (meanY)",
            "execution_count": 5,
            "outputs": [
                {
                    "output_type": "stream",
                    "text": "49.5\n49.5\n",
                    "name": "stdout"
                }
            ]
        },
        {
            "metadata": {},
            "cell_type": "markdown",
            "source": "Now we calculate the covariance"
        },
        {
            "metadata": {},
            "cell_type": "code",
            "source": "rddXY = rddX.zip(rddY)\ncovXY = rddXY.map(lambda x_y : (x_y[0]-meanX)*(x_y[1]-meanY)).sum()/rddXY.count()\ncovXY",
            "execution_count": 6,
            "outputs": [
                {
                    "output_type": "execute_result",
                    "execution_count": 6,
                    "data": {
                        "text/plain": "-34.62"
                    },
                    "metadata": {}
                }
            ]
        },
        {
            "metadata": {},
            "cell_type": "markdown",
            "source": "Covariance is not a normalized measure. Therefore we use it to calculate correlation. But before that we need to calculate the indivicual standard deviations first"
        },
        {
            "metadata": {},
            "cell_type": "code",
            "source": "from math import sqrt\nn = rddXY.count()\nsdX = sqrt(rddX.map(lambda x : pow(x-meanX,2)).sum()/n)\nsdY = sqrt(rddY.map(lambda x : pow(x-meanY,2)).sum()/n)\nprint (sdX)\nprint (sdY)",
            "execution_count": 7,
            "outputs": [
                {
                    "output_type": "stream",
                    "text": "28.86607004772212\n28.86607004772212\n",
                    "name": "stdout"
                }
            ]
        },
        {
            "metadata": {},
            "cell_type": "markdown",
            "source": "Now we calculate the correlation"
        },
        {
            "metadata": {},
            "cell_type": "code",
            "source": "corrXY = covXY / (sdX * sdY)\ncorrXY",
            "execution_count": 8,
            "outputs": [
                {
                    "output_type": "execute_result",
                    "execution_count": 8,
                    "data": {
                        "text/plain": "-0.04154815481548155"
                    },
                    "metadata": {}
                }
            ]
        },
        {
            "metadata": {},
            "cell_type": "markdown",
            "source": "## Part 2\nNo we want to create a correlation matrix out of the four RDDs used in the lecture"
        },
        {
            "metadata": {},
            "cell_type": "code",
            "source": "from pyspark.mllib.stat import Statistics\nimport random\ncolumn1 = sc.parallelize(range(100))\ncolumn2 = sc.parallelize(range(100,200))\ncolumn3 = sc.parallelize(list(reversed(range(100))))\ncolumn4 = sc.parallelize(random.sample(range(100),100))\n\n#data = column1.zip(column2).zip(column3).zip(column4).map(lambda a_b_c_d : (a_b_c_d[0][0][0],a_b_c_d[0][0][1],a_b_c_d[0][1],a_b_c_d[1]) ).map(lambda a_b_c_d : [a_b_c_d[0],a_b_c_d[1],a_b_c_d[2],a_b_c_d[3]])\n\ndata = column1.zip(column2).zip(column3).zip(column4)\nprint(data.take(10))\ndata = data.map(lambda a_b_c_d : (a_b_c_d[0][0][0],a_b_c_d[0][0][1],a_b_c_d[0][1],a_b_c_d[1]) )\nprint(data.take(10))\ndata = data.map(lambda a_b_c_d : [a_b_c_d[0],a_b_c_d[1],a_b_c_d[2],a_b_c_d[3]])\nprint(data.take(10))\n\nprint(Statistics.corr(data))",
            "execution_count": 10,
            "outputs": [
                {
                    "output_type": "stream",
                    "text": "[(((0, 100), 99), 55), (((1, 101), 98), 44), (((2, 102), 97), 78), (((3, 103), 96), 50), (((4, 104), 95), 46), (((5, 105), 94), 77), (((6, 106), 93), 7), (((7, 107), 92), 34), (((8, 108), 91), 64), (((9, 109), 90), 62)]\n[(0, 100, 99, 55), (1, 101, 98, 44), (2, 102, 97, 78), (3, 103, 96, 50), (4, 104, 95, 46), (5, 105, 94, 77), (6, 106, 93, 7), (7, 107, 92, 34), (8, 108, 91, 64), (9, 109, 90, 62)]\n[[0, 100, 99, 55], [1, 101, 98, 44], [2, 102, 97, 78], [3, 103, 96, 50], [4, 104, 95, 46], [5, 105, 94, 77], [6, 106, 93, 7], [7, 107, 92, 34], [8, 108, 91, 64], [9, 109, 90, 62]]\n[[ 1.          1.         -1.         -0.13045305]\n [ 1.          1.         -1.         -0.13045305]\n [-1.         -1.          1.          0.13045305]\n [-0.13045305 -0.13045305  0.13045305  1.        ]]\n",
                    "name": "stdout"
                }
            ]
        },
        {
            "metadata": {
                "collapsed": true
            },
            "cell_type": "markdown",
            "source": "Congratulations, you are done with Exercice 2"
        }
    ],
    "metadata": {
        "kernelspec": {
            "name": "python3",
            "display_name": "Python 3.6",
            "language": "python"
        },
        "language_info": {
            "name": "python",
            "version": "3.6.9",
            "mimetype": "text/x-python",
            "codemirror_mode": {
                "name": "ipython",
                "version": 3
            },
            "pygments_lexer": "ipython3",
            "nbconvert_exporter": "python",
            "file_extension": ".py"
        }
    },
    "nbformat": 4,
    "nbformat_minor": 1
}
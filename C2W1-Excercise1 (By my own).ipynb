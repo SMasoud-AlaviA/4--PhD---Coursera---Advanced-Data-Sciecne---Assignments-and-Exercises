{
    "cells": [
        {
            "metadata": {},
            "cell_type": "code",
            "source": "!git clone https://github.com/wchill/HMP_Dataset.git",
            "execution_count": 3,
            "outputs": [
                {
                    "output_type": "stream",
                    "text": "Cloning into 'HMP_Dataset'...\nremote: Enumerating objects: 865, done.\u001b[K\nremote: Total 865 (delta 0), reused 0 (delta 0), pack-reused 865\u001b[K\nReceiving objects: 100% (865/865), 1010.96 KiB | 0 bytes/s, done.\nChecking out files: 100% (848/848), done.\n",
                    "name": "stdout"
                }
            ]
        },
        {
            "metadata": {},
            "cell_type": "code",
            "source": "! ls HMP_Dataset",
            "execution_count": 7,
            "outputs": [
                {
                    "output_type": "stream",
                    "text": "Brush_teeth\tDrink_glass  Getup_bed\t  Pour_water\t Use_telephone\r\nClimb_stairs\tEat_meat     impdata.py   README.txt\t Walk\r\nComb_hair\tEat_soup     Liedown_bed  Sitdown_chair\r\nDescend_stairs\tfinal.py     MANUAL.txt   Standup_chair\r\n",
                    "name": "stdout"
                }
            ]
        },
        {
            "metadata": {},
            "cell_type": "code",
            "source": "! ls HMP_Dataset/Brush_teeth",
            "execution_count": 8,
            "outputs": [
                {
                    "output_type": "stream",
                    "text": "Accelerometer-2011-04-11-13-28-18-brush_teeth-f1.txt\r\nAccelerometer-2011-04-11-13-29-54-brush_teeth-f1.txt\r\nAccelerometer-2011-05-30-08-35-11-brush_teeth-f1.txt\r\nAccelerometer-2011-05-30-09-36-50-brush_teeth-f1.txt\r\nAccelerometer-2011-05-30-10-34-16-brush_teeth-m1.txt\r\nAccelerometer-2011-05-30-21-10-57-brush_teeth-f1.txt\r\nAccelerometer-2011-05-30-21-55-04-brush_teeth-m2.txt\r\nAccelerometer-2011-05-31-15-16-47-brush_teeth-f1.txt\r\nAccelerometer-2011-06-02-10-42-22-brush_teeth-f1.txt\r\nAccelerometer-2011-06-02-10-45-50-brush_teeth-f1.txt\r\nAccelerometer-2011-06-06-10-45-27-brush_teeth-f1.txt\r\nAccelerometer-2011-06-06-10-48-05-brush_teeth-f1.txt\r\n",
                    "name": "stdout"
                }
            ]
        },
        {
            "metadata": {},
            "cell_type": "code",
            "source": "from pyspark.sql.types import StructType, StructField, IntegerType\nschems = StructType[[\n    StructField(\"x\", IntegerType(), True)\n    StructField(\"y\", IntegerType(), True)\n    StructField(\"z\", IntegerType(), True)]]",
            "execution_count": 14,
            "outputs": [
                {
                    "output_type": "error",
                    "ename": "SyntaxError",
                    "evalue": "invalid syntax (<ipython-input-14-788026f9809a>, line 4)",
                    "traceback": [
                        "\u001b[0;36m  File \u001b[0;32m\"<ipython-input-14-788026f9809a>\"\u001b[0;36m, line \u001b[0;32m4\u001b[0m\n\u001b[0;31m    StructField(\"y\", IntegerType(), True)\u001b[0m\n\u001b[0m              ^\u001b[0m\n\u001b[0;31mSyntaxError\u001b[0m\u001b[0;31m:\u001b[0m invalid syntax\n"
                    ]
                }
            ]
        },
        {
            "metadata": {},
            "cell_type": "code",
            "source": "",
            "execution_count": null,
            "outputs": []
        }
    ],
    "metadata": {
        "kernelspec": {
            "name": "python36",
            "display_name": "Python 3.6 with Spark",
            "language": "python3"
        },
        "language_info": {
            "mimetype": "text/x-python",
            "nbconvert_exporter": "python",
            "name": "python",
            "pygments_lexer": "ipython3",
            "version": "3.6.8",
            "file_extension": ".py",
            "codemirror_mode": {
                "version": 3,
                "name": "ipython"
            }
        }
    },
    "nbformat": 4,
    "nbformat_minor": 1
}